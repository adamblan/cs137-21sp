{
 "cells": [
  {
   "cell_type": "markdown",
   "metadata": {},
   "source": [
    "# Huffman Codes"
   ]
  },
  {
   "cell_type": "markdown",
   "metadata": {},
   "source": [
    "## Generating an Optimal Prefix-Free Code"
   ]
  },
  {
   "cell_type": "markdown",
   "metadata": {},
   "source": [
    "### What does 'optimal' even mean?"
   ]
  },
  {
   "cell_type": "markdown",
   "metadata": {},
   "source": [
    "Imagine we're working with the text:"
   ]
  },
  {
   "cell_type": "code",
   "execution_count": 149,
   "metadata": {},
   "outputs": [],
   "source": [
    "text = \"aabbabcabcd\""
   ]
  },
  {
   "cell_type": "markdown",
   "metadata": {},
   "source": [
    "Optimal codes must assign *shorter* codes to *more frequent* symbols.  Let's get a frequency table of the symbols:"
   ]
  },
  {
   "cell_type": "code",
   "execution_count": 150,
   "metadata": {},
   "outputs": [
    {
     "data": {
      "text/plain": [
       "{'b': 4, 'c': 2, 'a': 4, 'd': 1}"
      ]
     },
     "execution_count": 150,
     "metadata": {},
     "output_type": "execute_result"
    }
   ],
   "source": [
    "freqs = dict([(x, len([y for y in text if y == x])) for x in set(text)]); freqs"
   ]
  },
  {
   "cell_type": "markdown",
   "metadata": {},
   "source": [
    "We claim the following:\n",
    "\n",
    "**Property 1:** In an optimal code, the two longest codes must be of the same length."
   ]
  },
  {
   "cell_type": "markdown",
   "metadata": {},
   "source": [
    "In this case, 'c' and 'd' should be the two longest codes. So, they must have the same length (and thus, they must be the same distance to the root of the code tree):"
   ]
  },
  {
   "cell_type": "code",
   "execution_count": 1,
   "metadata": {},
   "outputs": [
    {
     "data": {
      "image/png": "[encoded data removed]"
     },
     "metadata": {
      "jupyter": {
       "source_hidden": "true"
      }
     },
     "output_type": "display_data"
    }
   ],
   "source": [
    "%%tree --binary \n",
    "x/\"\\tiny{...}\" ->[\"0\",swap] c, x ->[\"1\"] d/\"d\" "
   ]
  },
  {
   "cell_type": "markdown",
   "metadata": {},
   "source": [
    "In total, there are 3 characters that are 'c' or 'd'.  We mentally \"collapse\" the prefix of c and d into a single character which we'll call \"cd\".  Then, we can recursively apply **Property 1** to the codebook:"
   ]
  },
  {
   "cell_type": "code",
   "execution_count": 152,
   "metadata": {},
   "outputs": [
    {
     "data": {
      "text/plain": [
       "{'b': 4, 'cd': 3, 'a': 4}"
      ]
     },
     "execution_count": 152,
     "metadata": {},
     "output_type": "execute_result"
    }
   ],
   "source": [
    "{'b': 4, 'cd': 3, 'a': 4}"
   ]
  },
  {
   "cell_type": "markdown",
   "metadata": {},
   "source": [
    "'cd' should clearly be one of the longest codes, but we have a choice to make either 'a' or 'b' the other one.  Let's choose 'a'.  So, then, we have:"
   ]
  },
  {
   "cell_type": "code",
   "execution_count": 2,
   "metadata": {},
   "outputs": [
    {
     "data": {
      "image/png": "[encoded data removed]"
     },
     "metadata": {
      "jupyter": {
       "source_hidden": "true"
      }
     },
     "output_type": "display_data"
    }
   ],
   "source": [
    "%%tree --binary \n",
    "x/\"\\tiny{...}\" ->[\"0\",swap] a, x ->[\"1\"] cd/\"\\tiny{cd}\""
   ]
  },
  {
   "cell_type": "markdown",
   "metadata": {},
   "source": [
    "Applying the same idea, we now have 'acd' and 'b' left which gives us:"
   ]
  },
  {
   "cell_type": "code",
   "execution_count": 4,
   "metadata": {
    "scrolled": true
   },
   "outputs": [
    {
     "data": {
      "image/png": "[encoded data removed]"
     },
     "metadata": {
      "jupyter": {
       "source_hidden": "true"
      }
     },
     "output_type": "display_data"
    }
   ],
   "source": [
    "%%tree --binary \n",
    "a/\"\" ->[\"0\",swap] acd/\"\\tiny{acd}\", a/\"\" ->[\"1\"] b"
   ]
  },
  {
   "cell_type": "markdown",
   "metadata": {},
   "source": [
    "Since this was recursive, we can put all the trees together recursively to get "
   ]
  },
  {
   "cell_type": "code",
   "execution_count": 3,
   "metadata": {},
   "outputs": [
    {
     "data": {
      "image/png": "[encoded data removed]"
     },
     "metadata": {
      "jupyter": {
       "source_hidden": "true"
      }
     },
     "output_type": "display_data"
    }
   ],
   "source": [
    "%%tree --binary \n",
    "x/\"\"[fill,minimum height=0.5em] ->[\"0\",swap] x0/\"\"[fill,minimum height=0.5em] ->[\"0\",swap] a,\n",
    "x/\"\" ->[\"1\"] b,\n",
    "x/\"\" ->[\"0\",swap] x0/\"\" ->[\"1\"] x01/\"\"[fill,minimum height=0.5em] ->[\"0\",swap] c,\n",
    "x01 ->[\"1\"] d"
   ]
  },
  {
   "cell_type": "markdown",
   "metadata": {},
   "source": [
    "We've now constructed a complete code for the original alphabet by applying **Property 1** recursively. This, of course, leads to the following algorithm:"
   ]
  },
  {
   "cell_type": "code",
   "execution_count": 156,
   "metadata": {},
   "outputs": [
    {
     "data": {
      "text/plain": [
       "[(4, 'b'), (2, 'c'), (4, 'a'), (1, 'd')]"
      ]
     },
     "execution_count": 156,
     "metadata": {},
     "output_type": "execute_result"
    }
   ],
   "source": [
    "freq_list = [(v, k) for (k,v) in freqs.items()]; freq_list"
   ]
  },
  {
   "cell_type": "code",
   "execution_count": 157,
   "metadata": {},
   "outputs": [],
   "source": [
    "def construct_prefix_free_code_tree(freq_list):\n",
    "    \"\"\"freqs is a list of frequency pairs (a, b), where a is the frequency of b in the input corpus\"\"\"\n",
    "    if len(freq_list) == 1:\n",
    "        # Return the constructed tree from the only remaining element\n",
    "        return freq_list[0][1]\n",
    "    # Make sure the frequency list is sorted and take the two least used symbols\n",
    "    freq_list = sorted(freq_list)\n",
    "    a = freq_list.pop(0)\n",
    "    b = freq_list.pop(0)\n",
    "    \n",
    "    # Recursively construct the prefix-free code by treating the combination of a & b as a single symbol\n",
    "    return construct_prefix_free_code_tree(freq_list + [(a[0] + b[0], (a[1], b[1]))])"
   ]
  },
  {
   "cell_type": "code",
   "execution_count": 158,
   "metadata": {},
   "outputs": [
    {
     "data": {
      "text/plain": [
       "('b', (('d', 'c'), 'a'))"
      ]
     },
     "execution_count": 158,
     "metadata": {},
     "output_type": "execute_result"
    }
   ],
   "source": [
    "tree = construct_prefix_free_code_tree(freq_list); tree"
   ]
  },
  {
   "cell_type": "markdown",
   "metadata": {},
   "source": [
    "To get the actual codebook from the tree, we need to traverse all paths of the tree as follows:"
   ]
  },
  {
   "cell_type": "code",
   "execution_count": 159,
   "metadata": {},
   "outputs": [],
   "source": [
    "def make_codebook_from_code_tree(code_tree, acc=\"\"):\n",
    "    # We found a particular code; this means we're at a leaf\n",
    "    if isinstance(code_tree, str):\n",
    "        return [(code_tree, acc)]\n",
    "    \n",
    "    # Recurse by trying going left and trying going right; concatenate the two results\n",
    "    return make_codebook_from_code_tree(code_tree[0], acc + \"0\") +\\\n",
    "           make_codebook_from_code_tree(code_tree[1], acc + \"1\") "
   ]
  },
  {
   "cell_type": "code",
   "execution_count": 160,
   "metadata": {},
   "outputs": [
    {
     "data": {
      "text/plain": [
       "[('b', '0'), ('d', '100'), ('c', '101'), ('a', '11')]"
      ]
     },
     "execution_count": 160,
     "metadata": {},
     "output_type": "execute_result"
    }
   ],
   "source": [
    "codebook = make_codebook_from_code_tree(tree); codebook"
   ]
  },
  {
   "cell_type": "markdown",
   "metadata": {},
   "source": [
    "Sanity checking that the resulting code is actually prefix free gives us:"
   ]
  },
  {
   "cell_type": "code",
   "execution_count": 161,
   "metadata": {},
   "outputs": [
    {
     "data": {
      "text/plain": [
       "True"
      ]
     },
     "execution_count": 161,
     "metadata": {},
     "output_type": "execute_result"
    }
   ],
   "source": [
    "def is_prefix_free(codebook):\n",
    "    # Compare all \n",
    "    for i in range(len(codebook)):\n",
    "        for j in range(len(codebook)):\n",
    "            # If one of any pair is a prefix of the other, it's not a prefix-free code\n",
    "            if i != j and codebook[i].startswith(codebook[j]):\n",
    "                return False\n",
    "    return True\n",
    "is_prefix_free([x[1] for x in codebook])"
   ]
  },
  {
   "cell_type": "markdown",
   "metadata": {},
   "source": [
    "## Compressing Using a Codetable"
   ]
  },
  {
   "cell_type": "markdown",
   "metadata": {},
   "source": [
    "To compress text using this algorithm, we can just use the codebook directly:"
   ]
  },
  {
   "cell_type": "code",
   "execution_count": 162,
   "metadata": {},
   "outputs": [],
   "source": [
    "codebook = dict(codebook)"
   ]
  },
  {
   "cell_type": "code",
   "execution_count": 163,
   "metadata": {},
   "outputs": [],
   "source": [
    "def compress(codebook, text):\n",
    "    result = []\n",
    "    # Repeatedly convert a single symbol to multiple bits\n",
    "    for x in text:\n",
    "        result.append(codebook[x])\n",
    "    return \"\".join(result)"
   ]
  },
  {
   "cell_type": "code",
   "execution_count": 164,
   "metadata": {},
   "outputs": [
    {
     "data": {
      "text/plain": [
       "'111100110101110101100'"
      ]
     },
     "execution_count": 164,
     "metadata": {},
     "output_type": "execute_result"
    }
   ],
   "source": [
    "data = compress(codebook, text); data"
   ]
  },
  {
   "cell_type": "markdown",
   "metadata": {},
   "source": [
    "Decompression is slightly more interesting.  We have two options: (1) use the \"reverse\" table and (2) use the tree directly."
   ]
  },
  {
   "cell_type": "markdown",
   "metadata": {},
   "source": [
    "## Decompressing Using a Table"
   ]
  },
  {
   "cell_type": "code",
   "execution_count": 165,
   "metadata": {},
   "outputs": [
    {
     "data": {
      "text/plain": [
       "{'0': 'b', '100': 'd', '101': 'c', '11': 'a'}"
      ]
     },
     "execution_count": 165,
     "metadata": {},
     "output_type": "execute_result"
    }
   ],
   "source": [
    "reverse_codebook = {v:k for (k,v) in codebook.items()}; reverse_codebook"
   ]
  },
  {
   "cell_type": "code",
   "execution_count": 166,
   "metadata": {},
   "outputs": [],
   "source": [
    "def decompress_with_codebook(reverse_codebook, data):\n",
    "    result = []\n",
    "    buf = \"\"\n",
    "    for x in data:\n",
    "        buf += x\n",
    "        # Check if the current buffer constitutes an entire symbol\n",
    "        if buf in reverse_codebook:\n",
    "            # If it does, reset the buffer and output that symbol\n",
    "            result.append(reverse_codebook[buf])\n",
    "            buf = \"\"\n",
    "    return \"\".join(result)"
   ]
  },
  {
   "cell_type": "code",
   "execution_count": 167,
   "metadata": {},
   "outputs": [
    {
     "data": {
      "text/plain": [
       "'aabbabcabcd'"
      ]
     },
     "execution_count": 167,
     "metadata": {},
     "output_type": "execute_result"
    }
   ],
   "source": [
    "decompress_with_codebook(reverse_codebook, data)"
   ]
  },
  {
   "cell_type": "code",
   "execution_count": 168,
   "metadata": {},
   "outputs": [
    {
     "data": {
      "text/plain": [
       "True"
      ]
     },
     "execution_count": 168,
     "metadata": {},
     "output_type": "execute_result"
    }
   ],
   "source": [
    "_ == text"
   ]
  },
  {
   "cell_type": "markdown",
   "metadata": {},
   "source": [
    "## Decompressing Using a Tree"
   ]
  },
  {
   "cell_type": "code",
   "execution_count": 169,
   "metadata": {},
   "outputs": [],
   "source": [
    "def decompress_with_tree(tree, data):\n",
    "    result = []\n",
    "    data = list(data)\n",
    "    # While there are more bits...\n",
    "    while len(data) > 0:\n",
    "        t = tree\n",
    "        # Check if we hit a leaf of the tree\n",
    "        while not isinstance(t, str):\n",
    "            # If we didn't, traverse the tree in the direction of the bit we got\n",
    "            t = t[int(data.pop(0))]\n",
    "        result.append(t)\n",
    "    return \"\".join(result)"
   ]
  },
  {
   "cell_type": "code",
   "execution_count": 170,
   "metadata": {},
   "outputs": [
    {
     "data": {
      "text/plain": [
       "'aabbabcabcd'"
      ]
     },
     "execution_count": 170,
     "metadata": {},
     "output_type": "execute_result"
    }
   ],
   "source": [
    "decompress_with_tree(tree, data)"
   ]
  },
  {
   "cell_type": "code",
   "execution_count": 171,
   "metadata": {},
   "outputs": [
    {
     "data": {
      "text/plain": [
       "True"
      ]
     },
     "execution_count": 171,
     "metadata": {},
     "output_type": "execute_result"
    }
   ],
   "source": [
    "_ == text"
   ]
  }
 ],
 "metadata": {
  "kernelspec": {
   "display_name": "Python 3",
   "language": "python",
   "name": "python3"
  },
  "language_info": {
   "codemirror_mode": {
    "name": "ipython",
    "version": 3
   },
   "file_extension": ".py",
   "mimetype": "text/x-python",
   "name": "python",
   "nbconvert_exporter": "python",
   "pygments_lexer": "ipython3",
   "version": "3.9.2"
  },
  "latex_envs": {
   "LaTeX_envs_menu_present": true,
   "autoclose": false,
   "autocomplete": true,
   "bibliofile": "biblio.bib",
   "cite_by": "apalike",
   "current_citInitial": 1,
   "eqLabelWithNumbers": true,
   "eqNumInitial": 1,
   "hotkeys": {
    "equation": "Ctrl-E",
    "itemize": "Ctrl-I"
   },
   "labels_anchors": false,
   "latex_user_defs": false,
   "report_style_numbering": false,
   "user_envs_cfg": true
  }
 },
 "nbformat": 4,
 "nbformat_minor": 2
}
